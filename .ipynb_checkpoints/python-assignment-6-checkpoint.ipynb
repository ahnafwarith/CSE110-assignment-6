{
 "cells": [
  {
   "cell_type": "raw",
   "id": "c6b5d851",
   "metadata": {},
   "source": [
    "Task 1\n",
    "\n",
    "Write a function called even_checker that takes a number as an argument and prints whether the number is even or odd inside the function.\n",
    "===================================================================\n",
    "Example 1:\n",
    "Function Call:\n",
    "even_checker(5)\n",
    "Output:\n",
    "Odd!!\n",
    "===================================================================\n",
    "Example2: \n",
    "Function Call:\n",
    "even_checker(2)\n",
    "Output:\n",
    "Even!!"
   ]
  },
  {
   "cell_type": "code",
   "execution_count": 17,
   "id": "5d81a1cf",
   "metadata": {},
   "outputs": [
    {
     "name": "stdout",
     "output_type": "stream",
     "text": [
      "odd\n"
     ]
    }
   ],
   "source": [
    "def even_checker(num):\n",
    "    status = \"\"\n",
    "    if (num % 2==0):\n",
    "        status = \"even\"\n",
    "    else:\n",
    "        status = \"odd\"\n",
    "    print(status)\n",
    "checker(11)"
   ]
  },
  {
   "cell_type": "raw",
   "id": "41f1ccf5",
   "metadata": {},
   "source": [
    "Task 2\n",
    "\n",
    "Write a python function that takes the limit as an argument of the Fibonacci series and prints till that limit. \n",
    "===================================================================\n",
    "Function Call:\n",
    "fibonacci(10)\n",
    "Output:\n",
    "0 1 1 2 3 5 8\n",
    "===================================================================\n",
    "Function Call:\n",
    "fibonacci(5)\n",
    "Output:\n",
    "0 1 1 2 3 5 "
   ]
  },
  {
   "cell_type": "code",
   "execution_count": 40,
   "id": "c00bc500",
   "metadata": {},
   "outputs": [
    {
     "name": "stdout",
     "output_type": "stream",
     "text": [
      "0 1 1 2 3 5\n"
     ]
    }
   ],
   "source": [
    "def fibonacci(limit):\n",
    "    first = 0\n",
    "    second = 1\n",
    "    container = str(first) + \" \" + str(second)\n",
    "    for i in range (0,limit-1):\n",
    "        third = first + second\n",
    "        if (third>limit):\n",
    "            break\n",
    "        container += \" \" + str(third)\n",
    "        first = second\n",
    "        second = third\n",
    "    print(container)\n",
    "fibonacci(5)"
   ]
  },
  {
   "cell_type": "raw",
   "id": "97edd071",
   "metadata": {},
   "source": [
    "Task 3\n",
    "\n",
    "Write a function called foo_moo that takes a number as an argument and returns the following statements according to the below mentioned conditions. Then, finally prints the statement in the function call. \n",
    "If the number is divisible by 2, it should return \"Foo\".\n",
    "If the number is divisible by 3, it should return \"Moo\". \n",
    "If the number is divisible by both 2 and 3, it should return \"FooMoo\".\n",
    "Otherwise, it returns \"Boo\".\n",
    "\n",
    "Example1: \n",
    "Function Call:\n",
    "foo_moo(5)\n",
    "Output:\n",
    "Boo\n",
    "===================================================================\n",
    "Example2: \n",
    "Function Call:\n",
    "foo_moo(4)\n",
    "Output:\n",
    "Foo\n",
    "===================================================================\n",
    "Example3: \n",
    "Function Call:\n",
    "foo_moo(6)\n",
    "Output:\n",
    "FooMoo"
   ]
  },
  {
   "cell_type": "code",
   "execution_count": 43,
   "id": "cb9eda05",
   "metadata": {},
   "outputs": [
    {
     "data": {
      "text/plain": [
       "'Boo'"
      ]
     },
     "execution_count": 43,
     "metadata": {},
     "output_type": "execute_result"
    }
   ],
   "source": [
    "def foo_moo(num):\n",
    "    if(num%2==0 and num%3==0):\n",
    "        return \"FooMoo\"\n",
    "    elif (num%2==0):\n",
    "        return \"Foo\"\n",
    "    elif(num%3==0):\n",
    "        return \"Moo\"\n",
    "    else:\n",
    "        return \"Boo\"\n",
    "foo_moo(5)"
   ]
  },
  {
   "cell_type": "raw",
   "id": "2d6c1f6a",
   "metadata": {},
   "source": [
    "Task 4\n",
    "\n",
    "Write a python function that takes a string as an argument. Your task is to calculate the number of uppercase letters and lowercase letters and print them in the function. \n",
    "===================================================================\n",
    "Function Call:\n",
    "function_name('The quick Sand Man')\n",
    "Output:\n",
    "No. of Uppercase characters : 3\n",
    "No. of Lowercase Characters: 12\n",
    "===================================================================\n",
    "Function Call:\n",
    "function_name('HaRRy PotteR')\n",
    "Output:\n",
    "No. of Uppercase characters : 5\n",
    "No. of Lowercase Characters: 6"
   ]
  },
  {
   "cell_type": "code",
   "execution_count": 56,
   "id": "b38c929a",
   "metadata": {},
   "outputs": [
    {
     "name": "stdout",
     "output_type": "stream",
     "text": [
      "No. of Uppercase characters : 4\n",
      "No. of Lowercase characters: 6\n"
     ]
    }
   ],
   "source": [
    "def caseCalculator(string):\n",
    "    upperCounter = 0\n",
    "    lowerCounter = 0\n",
    "    for i in string:\n",
    "        if(65 <= ord(i) <= 90):\n",
    "            upperCounter += 1\n",
    "        elif(97<= ord(i) <= 122):\n",
    "            lowerCounter += 1\n",
    "    print(\"No. of Uppercase characters :\",upperCounter)\n",
    "    print(\"No. of Lowercase characters:\",lowerCounter)\n",
    "caseCalculator(\"AAAzzZaaaa\")"
   ]
  },
  {
   "cell_type": "raw",
   "id": "a6f963c1",
   "metadata": {},
   "source": [
    "Task 5\n",
    "\n",
    "Write a function called calculate_tax that takes 3 arguments: your age, salary, and current job designation.\n",
    "Your first task is to take these arguments as user input and pass these values to the function.\n",
    "Your second task is to implement the function and calculate the tax as the following conditions:\n",
    "NO TAX IF YOU ARE LESS THAN 18 YEARS OLD.\n",
    "NO TAX IF YOU ARE THE PRESIDENT OF THE COMPANY \n",
    "No tax if you get paid less than 10,000\n",
    "5% tax if you get paid between 10K and 20K\n",
    "10% tax if you get paid more than 20K\n",
    "Finally return this tax value. Then print the returned value in the function call.\n",
    "\n",
    "Hints:\n",
    "Here the job designation is a string, so it can be written in both uppercase and lower cases. So, you need to check the value ignoring the case.\n",
    "===================================================================\n",
    "Example1: \n",
    "Input:\n",
    "16\n",
    "20000\n",
    "Student\n",
    "Function Call:\n",
    "calculate_tax(16, 20000, 'Student')\n",
    "Output:\n",
    "0\n",
    "===================================================================\n",
    "Example2: \n",
    "Input:\n",
    "20\n",
    "18000\n",
    "assistant manager\n",
    "Function Call:\n",
    "calculate_tax(20, 18000, 'assistant manager')\n",
    "Output:\n",
    "900.0\n",
    "===================================================================\n",
    "Example3: \n",
    "Input:\n",
    "20\n",
    "22000\n",
    "assistant manager\n",
    "Function Call:\n",
    "calculate_tax(20, 22000, 'Assistant manager')\n",
    "Output:\n",
    "2200.0\n",
    "===================================================================\n",
    "Example4: \n",
    "Input:\n",
    "20\n",
    "122000\n",
    "president\n",
    "Function Call:\n",
    "calculate_tax(20, 122000, 'president')\n",
    "Output:\n",
    "0"
   ]
  },
  {
   "cell_type": "code",
   "execution_count": 15,
   "id": "b0486eeb",
   "metadata": {},
   "outputs": [
    {
     "name": "stdout",
     "output_type": "stream",
     "text": [
      "age: 20\n",
      "salary: 18000\n",
      "job: dsuhhu\n",
      "900.0\n"
     ]
    }
   ],
   "source": [
    "def calculate_tax(age,salary,job):\n",
    "    job = job.lower()\n",
    "    if (job == 'president' or age < 18 or salary < 10000):\n",
    "        tax = 0\n",
    "    elif(salary < 20000):\n",
    "        tax = salary * 5/100\n",
    "    else:\n",
    "        tax = salary * 10/100\n",
    "    return tax\n",
    "age = int(input(\"age: \"))\n",
    "salary = int(input(\"salary: \"))\n",
    "job = input(\"job: \")\n",
    "print(calculate_tax(age,salary,job))"
   ]
  },
  {
   "cell_type": "raw",
   "id": "6bbbd579",
   "metadata": {},
   "source": [
    "Task 6\n",
    "Write a function which will take 1 argument, number of days.\n",
    "Your first task is to take the number of days as user input and pass the value to the function.\n",
    "Your second task is to implement the function and calculate the total number of years, number of months, and the remaining number of days as output. No need to return any value, print inside the function. \n",
    "\n",
    "Note: Assume, each year to be 365 days and month to be 30 days.\n",
    "Hint(1): Divide and mod the main input to get the desired output.\n",
    "Hint(2): This task’s calculation is similar to Assignment-1’s seconds to hours, minutes conversion.\n",
    "\n",
    "Example01\n",
    "Input:\n",
    "4330\n",
    "Function Call:\n",
    "function_name(4330)\n",
    "Output:\n",
    "11 years, 10 months and 15 days\n",
    "===================================================================\n",
    "Example02\n",
    "Input:\n",
    "2250\n",
    "Function Call:\n",
    "function_name(2250)\n",
    "Output:\n",
    "6 years, 2 months and 0 days"
   ]
  },
  {
   "cell_type": "code",
   "execution_count": 33,
   "id": "cc8fcc40",
   "metadata": {},
   "outputs": [
    {
     "name": "stdout",
     "output_type": "stream",
     "text": [
      "60 20 0\n"
     ]
    }
   ],
   "source": [
    "def prototypeYears (days):\n",
    "    years = days // (31*12)\n",
    "    months = (days-(365*years)) // (30)\n",
    "    days = (days-(365*years)) % 30\n",
    "    print(years,months,days)\n",
    "prototypeYears(22500)"
   ]
  },
  {
   "cell_type": "raw",
   "id": "a40408bd",
   "metadata": {},
   "source": [
    "Task 7\n",
    "Write a function called show_palindrome that takes a number as an argument and then returns a palindrome string. Finally, prints the returned value in the function call.\n",
    "\n",
    "Example1: \n",
    "Function Call:\n",
    "show_palindrome(5)\n",
    "Output:\n",
    "123454321\n",
    "===================================================================\n",
    "Example2: \n",
    "Function Call:\n",
    "show_palindrome(3)\n",
    "Output:\n",
    "12321"
   ]
  },
  {
   "cell_type": "code",
   "execution_count": 68,
   "id": "356352ef",
   "metadata": {},
   "outputs": [
    {
     "name": "stdout",
     "output_type": "stream",
     "text": [
      "12321\n"
     ]
    }
   ],
   "source": [
    "def show_palindrome (num):\n",
    "    container = \"\"\n",
    "    for i in range (1,num):\n",
    "        container += str(i)\n",
    "    for i in range (num,0,-1):\n",
    "        container += str(i)\n",
    "    return container\n",
    "print(show_palindrome(3))"
   ]
  },
  {
   "cell_type": "raw",
   "id": "83d4e4ed",
   "metadata": {},
   "source": [
    "Task 8\n",
    "Write a function called show_palindromic_triangle that takes a number as an argument and prints a Palindromic Triangle in the function.\n",
    "[Must reuse the show_palindrome() function of the previous task]\n",
    "===================================================================\n",
    "Hints(1): \n",
    "Need to use both print() and print( , end = \" \") functions\n",
    "===================================================================\n",
    "Example1: \n",
    "Function Call:\n",
    "show_palindromic_triangle(5)\n",
    "Output:\n",
    "        1\n",
    "      1   2   1 \n",
    "    1   2   3   2   1 \n",
    "  1   2   3   4   3   2   1 \n",
    "1   2   3   4   5   4   3   2   1\n",
    "===================================================================\n",
    "Example2: \n",
    "Function Call:\n",
    "show_palindromic_triangle(3)\n",
    "Output:\n",
    "    1 \n",
    "  1   2   1 \n",
    "1   2   3   2   1"
   ]
  },
  {
   "cell_type": "code",
   "execution_count": 17,
   "id": "b07c8c74",
   "metadata": {},
   "outputs": [
    {
     "name": "stdout",
     "output_type": "stream",
     "text": [
      "    1 \n",
      "\n",
      "   1 2 1 \n",
      "\n",
      "  1 2 3 2 1 \n",
      "\n",
      " 1 2 3 4 3 2 1 \n",
      "\n",
      "1 2 3 4 5 4 3 2 1 \n",
      "\n"
     ]
    }
   ],
   "source": [
    "def show_palindrome (num):\n",
    "    container = \"\"\n",
    "    for i in range (1,num):\n",
    "        container += str(i)\n",
    "    for i in range (num,0,-1):\n",
    "        container += str(i)\n",
    "    return container\n",
    "def show_palindrome_triangle(num):\n",
    "    for i in range(1,num+1):\n",
    "        for j in range(num - i):\n",
    "            print(\" \",end=\"\")\n",
    "        d = show_palindrome(i)\n",
    "#         for k in d:\n",
    "        print(d)\n",
    "#             print(k,end=\" \")\n",
    "        print()\n",
    "show_palindrome_triangle(5)"
   ]
  },
  {
   "cell_type": "raw",
   "id": "30922244",
   "metadata": {},
   "source": [
    "Task 9\n",
    "Write a function called area_circumference_generator that takes a radius of a circle as a function parameter and calculates its circumference and area. Then returns these two results as a tuple and prints the results using tuple unpacking in the function call according to the given format. \n",
    "[Must use tuple packing & unpacking] \n",
    "===================================================================\n",
    "Example1: \n",
    "Function Call:\n",
    "area_circumference_generator(1)\n",
    "Output:\n",
    "(3.141592653589793, 6.283185307179586)\n",
    "Area of the circle is 3.141592653589793 and circumference is 6.283185307179586\n",
    "\n",
    "Example2: \n",
    "Function Call:\n",
    "area_circumference_generator(1.5)\n",
    "Output:\n",
    "(7.0685834705770345, 9.42477796076938)\n",
    "Area of the circle is 7.0685834705770345 and circumference is 9.42477796076938\n",
    "===================================================================\n",
    "Example3: \n",
    "Function Call:\n",
    "area_circumference_generator(2.5)\n",
    "Output:\n",
    "(19.634954084936208, 15.707963267948966)\n",
    "Area of the circle is 19.634954084936208 and circumference is 15.707963267948966"
   ]
  },
  {
   "cell_type": "code",
   "execution_count": 27,
   "id": "93337af7",
   "metadata": {},
   "outputs": [
    {
     "name": "stdout",
     "output_type": "stream",
     "text": [
      "(19.634954084936208, 15.707963267948966)\n",
      "Area of the circle is 19.634954084936208 and circumference is 15.707963267948966\n"
     ]
    }
   ],
   "source": [
    "pi = 3.141592653589793\n",
    "def area_circumference_generator(rad):\n",
    "    circumference = 2 * pi * rad\n",
    "    area = pi * (rad**2)\n",
    "    return area, circumference\n",
    "print(area_circumference_generator(2.5))\n",
    "a,b = area_circumference_generator(2.5)\n",
    "print(\"Area of the circle is\",a,\"and circumference is\",b)"
   ]
  },
  {
   "cell_type": "raw",
   "id": "60b303bc",
   "metadata": {},
   "source": [
    "Task 10\n",
    "Write a function called make_square that takes a tuple in the parameter as a range of numbers (starting point and ending point (included)). The function should return a dictionary with the numbers as keys and its squares as values.\n",
    "===================================================================\n",
    "Hints: \n",
    "You need to declare a dictionary to store the result. You should use the range function to run the “for loop”.\n",
    "===================================================================\n",
    "Example1: \n",
    "Function Call:\n",
    "make_square((1,3))\n",
    "Output:\n",
    "{1: 1, 2: 4, 3: 9}\n",
    "===================================================================\n",
    "Example2: \n",
    "Function Call:\n",
    "make_square((5,9))\n",
    "Output:\n",
    "{5: 25, 6: 36, 7: 49, 8: 64, 9: 81}"
   ]
  },
  {
   "cell_type": "code",
   "execution_count": 32,
   "id": "37fd2365",
   "metadata": {},
   "outputs": [
    {
     "data": {
      "text/plain": [
       "{5: 25, 6: 36, 7: 49, 8: 64, 9: 81}"
      ]
     },
     "execution_count": 32,
     "metadata": {},
     "output_type": "execute_result"
    }
   ],
   "source": [
    "def make_square (tup) :\n",
    "    dct = {}\n",
    "    for i in range(tup[0],tup[1]+1):\n",
    "        dct[i] = i*i\n",
    "    return dct\n",
    "make_square((5,9))"
   ]
  },
  {
   "cell_type": "raw",
   "id": "7b9943ad",
   "metadata": {},
   "source": [
    "Task 11\n",
    "Write a function called rem_duplicate that takes a tuple in the parameter and return a tuple removing all the duplicate values. Then print the returned tuple in the function call.\n",
    "[Cannot use remove() or removed() for this task] \n",
    "===================================================================\n",
    "Hints: \n",
    "Unlike lists, tuples are immutable, so the tuple taken as an argument cannot be modified. But the list can be modified and lastly for returning the result use type conversion. You need to use membership operators (in, not in) for preventing adding any duplicates values.\n",
    "===================================================================\n",
    "Example1: \n",
    "Function Call:\n",
    "rem_duplicate((1,1,1,2,3,4,5,6,6,6,6,4,0,0,0))\n",
    "Output:\n",
    "(1, 2, 3, 4, 5, 6, 0)\n",
    "===================================================================\n",
    "Example2: \n",
    "Function Call:\n",
    "rem_duplicate((\"Hi\", 1, 2, 3, 3, \"Hi\",'a', 'a', [1,2]))\n",
    "Output:\n",
    "('Hi', 1, 2, 3, 'a', [1, 2])"
   ]
  },
  {
   "cell_type": "code",
   "execution_count": 39,
   "id": "ecef8481",
   "metadata": {},
   "outputs": [
    {
     "name": "stdout",
     "output_type": "stream",
     "text": [
      "(1, 2, 3, 4, 5, 6, 0)\n"
     ]
    }
   ],
   "source": [
    "def rem_duplicate(tup):\n",
    "    lst = []\n",
    "    for i in tup:\n",
    "        if (i not in lst):\n",
    "            lst.append(i)\n",
    "    finalTup = tuple(lst)\n",
    "    print(finalTup)\n",
    "rem_duplicate((1,1,1,2,3,4,5,6,6,6,6,4,0,0,0))"
   ]
  },
  {
   "cell_type": "raw",
   "id": "7497f2e7",
   "metadata": {},
   "source": [
    "Task 12\n",
    "Write a python function that takes a list as an argument. Your task is to create a new list where each element can be present at max 2 times. Inside the function, print the number of elements removed from the given list. Finally, return the new list and print the result.\n",
    "=====================================================\n",
    "Hint: You may use list_name.count(element) to count the total number of times an element is in a list. list_name is your new list for this problem.\n",
    "=====================================================\n",
    "Function Call:\n",
    "function_name([1, 2, 3, 3, 3, 3, 4, 5, 8, 8])\n",
    "Output:\n",
    "Removed: 2\n",
    "[1, 2, 3, 3, 4, 5, 8, 8]\n",
    "================================\n",
    "Function Call:\n",
    "function_name([10, 10, 15, 15, 20])\n",
    "Output:\n",
    "Removed: 0\n",
    "[10, 10, 15, 15, 20]"
   ]
  },
  {
   "cell_type": "code",
   "execution_count": 54,
   "id": "fa68301f",
   "metadata": {},
   "outputs": [
    {
     "name": "stdout",
     "output_type": "stream",
     "text": [
      "Removed: 2\n",
      "[1, 2, 3, 3, 4, 5, 8, 8]\n"
     ]
    }
   ],
   "source": [
    "def doubleChecker(lst):\n",
    "    newLst = []\n",
    "    count = 0\n",
    "    for i in lst:\n",
    "        if (newLst.count(i) > 1):\n",
    "            count += 1\n",
    "            continue\n",
    "        newLst.append(i)\n",
    "    print(\"Removed:\",count)\n",
    "    print(newLst)\n",
    "doubleChecker([1, 2, 3, 3, 3, 3, 4, 5, 8, 8])"
   ]
  },
  {
   "cell_type": "raw",
   "id": "f6a49029",
   "metadata": {},
   "source": [
    "Task 13\n",
    "Write a python function that will perform the basic calculation (addition, subtraction, multiplication and division) based on 3 arguments. They are:\n",
    "Operator ('+', '-', '/', '*')\n",
    "First Operand (any number)\n",
    "Second Operand (any number)\n",
    "Your first task is to take these arguments as user input and pass the values to the function parameters.\n",
    "Your second task is to write a function and perform the calculation based on the given operator. Then, finally return the result in the function call and print the result.\n",
    "=====================================================\n",
    "Input:\n",
    "\"+\"\n",
    "10\n",
    "20\n",
    "Function Call:\n",
    "function_name(\"+\", 10, 20)\n",
    "Output:\n",
    "30.0\n",
    "================================\n",
    "Input:\n",
    "\"*\"\n",
    "5.5\n",
    "2.5\n",
    "Function Call:\n",
    "function_name(\"*\", 5.5, 2.5)\n",
    "Output:\n",
    "13.75"
   ]
  },
  {
   "cell_type": "code",
   "execution_count": 74,
   "id": "b562fde3",
   "metadata": {},
   "outputs": [
    {
     "name": "stdout",
     "output_type": "stream",
     "text": [
      "Enter operation type: +\n",
      "Enter first operand: 10\n",
      "Enter second operand: 20\n"
     ]
    },
    {
     "data": {
      "text/plain": [
       "30.0"
      ]
     },
     "execution_count": 74,
     "metadata": {},
     "output_type": "execute_result"
    }
   ],
   "source": [
    "def calculator(opType,n1,n2):\n",
    "    if opType == \"+\":\n",
    "        return n1 + n2\n",
    "    elif opType == \"-\":\n",
    "        return n1 - n2\n",
    "    elif opType == \"/\":\n",
    "        return n1 / n2\n",
    "    else:\n",
    "        return n1 * n2\n",
    "opType = input(\"Enter operation type: \")\n",
    "n1 = float(input(\"Enter first operand: \"))\n",
    "n2 = float(input(\"Enter second operand: \"))\n",
    "calculator(opType, n1, n2)"
   ]
  },
  {
   "cell_type": "raw",
   "id": "d60d3f78",
   "metadata": {},
   "source": [
    "Task 14\n",
    "Write a function which will take 2 arguments. They are:\n",
    "Sentence \n",
    "Position \n",
    "Your first task is to take these arguments as user input and pass these values to the function parameters.\n",
    "Your second task is to implement the function and remove the characters at the index number which is divisible by the position (Avoid the index number 0 as it will always be divisible by the position, so no need to remove the index 0 character). Finally, add the removed characters at the end of the new string.\n",
    "Return the value and then finally, print the new string at the function call.\n",
    "[Cannot use remove() or removed() for this task] \n",
    "Input:\n",
    "\"I love programming.\"\n",
    "3\n",
    "Function call:\n",
    "function_name(\"I love programming.\", 3)\n",
    "Output:\n",
    "I lveprgrmmngo oai.\n",
    "===================================================================\n",
    "Input:\n",
    "\"Python is easy to learn. I love python.\"\n",
    "6\n",
    "Function call:\n",
    "function_name(\"Python is easy to learn. I love python.\", 6)\n",
    "Output:\n",
    "Pythonis eay to earn.I lov pythn. sl eo"
   ]
  },
  {
   "cell_type": "code",
   "execution_count": 1,
   "id": "ab31a1c5",
   "metadata": {},
   "outputs": [
    {
     "data": {
      "text/plain": [
       "'I lveprgrmmngo oai.'"
      ]
     },
     "execution_count": 1,
     "metadata": {},
     "output_type": "execute_result"
    }
   ],
   "source": [
    "def pythonator(sen,pos):\n",
    "    container1 = \"\"\n",
    "    container2 = \"\"\n",
    "    count = 0\n",
    "    for i in sen:\n",
    "        if count == 0:\n",
    "            container1 += i\n",
    "        else:    \n",
    "            if (count % pos == 0):\n",
    "                container2 += i\n",
    "            else:\n",
    "                container1 += i\n",
    "        count += 1\n",
    "    return container1 + container2\n",
    "# sen = input()\n",
    "# pos = int(input())\n",
    "pythonator(\"I love programming.\",3)"
   ]
  },
  {
   "cell_type": "raw",
   "id": "e49fc6a0",
   "metadata": {},
   "source": [
    "Task 15\n",
    "You have been hired as an app developer for the company. The company plans to make an app for a grocery store where the user can order groceries and see the total amount to be paid in the cart section. \n",
    "\n",
    "To build this feature, you have to write a function that takes 2 arguments. They are:\n",
    "order_items (must be a list)\n",
    "location (default value should be set to \"Dhanmondi\")\n",
    "\n",
    "Your first task is to take a list of items from the user. Pass the list into the function parameter along with the optional location (Use default argument technique). (Also, no need to take location as input, pass this any value you want.) \n",
    "\n",
    "Your second task is to implement the function. In the function, create a dictionary for the items shown in the table. Calculate the total price of the items passed as a list to the function. Additionally, add a delivery fee of 30 taka if the location is Dhanmondi. Otherwise, add a delivery fee of 70 taka. Finally, return the value and print it.\n",
    "\n",
    "Item\n",
    "Price(Tk)\n",
    "Rice\n",
    "105\n",
    "Potato\n",
    "20\n",
    "Chicken\n",
    "250\n",
    "Beef\n",
    "510\n",
    "Oil\n",
    "85\n",
    "\n",
    "Hint: The keys are the items and values are the corresponding price. Iterate the items in the list and check if the items in the list are available in the dictionary keys or not. If it is available, add the price.\n",
    "===================================================================\n",
    "Example1:\n",
    "function_name([\"Rice\", \"Beef\", \"Rice\"], \"Mohakhali\")\n",
    "total = 105 + 510 + 105 = 720 (Take the price of each item and add them.)\n",
    "total = 720 + 70 = 790 (Finally, add the delivery fee based on the location.)\n",
    "Input:\n",
    "[\"Rice\", \"Beef\", \"Rice\"]\n",
    "Function Call:\n",
    "function_name([\"Rice\", \"Beef\", \"Rice\"], \"Mohakhali\")\n",
    "Output:\n",
    "790\n",
    "===================================================================\n",
    "Example2:\n",
    "function_name([\"Rice\", \"Beef\", \"Rice\"])\n",
    "total = 105 + 510 + 105 = 720 (Take the price of each item and add them.)\n",
    "total = 720 + 30 = 750 (Since no location is passed in the parameter, it will use the default location-\"Dhanmondi\". For Dhanmondi, delivery fee of 30 taka)\n",
    "Input:\n",
    "[\"Rice\", \"Beef\", \"Rice\"]\n",
    "Function Call:\n",
    "function_name([\"Rice\", \"Beef\", \"Rice\"])\n",
    "Output:\n",
    "750"
   ]
  },
  {
   "cell_type": "code",
   "execution_count": 11,
   "id": "194fd830",
   "metadata": {},
   "outputs": [
    {
     "name": "stdout",
     "output_type": "stream",
     "text": [
      "Enter your list: [\"Rice\", \"Beef\", \"Rice\"]\n",
      "['', '', '', '', '', '', '', '', '', '', '', '', '', '', '', '', '', '', '', '', '', '', '', '']\n"
     ]
    },
    {
     "data": {
      "text/plain": [
       "790"
      ]
     },
     "execution_count": 11,
     "metadata": {},
     "output_type": "execute_result"
    }
   ],
   "source": [
    "def groceries(lst,location=\"Dhanmondi\"):\n",
    "    dictionary = {'Rice':105,'Potato':20,'Chicken':250,'Beef':510,'Oil':85}\n",
    "    total = 0\n",
    "    if location == \"Dhanmondi\":\n",
    "        total += 30\n",
    "    else:\n",
    "        total += 70\n",
    "    for i in lst:\n",
    "          total += dictionary[i]\n",
    "    return total\n",
    "\n",
    "inputValue = input(\"Enter your list: \")\n",
    "container = \"\"\n",
    "inputList = []\n",
    "for i in inputValue:\n",
    "    if i != \"[\" or i != \"]\" or i != '\"' or i != ' ' or i != ',':\n",
    "        inputList.append(container)\n",
    "    else:\n",
    "        container += i\n",
    "print(inputList)\n",
    "groceries([\"Rice\", \"Beef\", \"Rice\"], \"Mohakhali\")"
   ]
  },
  {
   "cell_type": "code",
   "execution_count": 35,
   "id": "4e87e678",
   "metadata": {},
   "outputs": [
    {
     "name": "stdout",
     "output_type": "stream",
     "text": [
      "YeaboIII\n"
     ]
    },
    {
     "data": {
      "text/plain": [
       "30"
      ]
     },
     "execution_count": 35,
     "metadata": {},
     "output_type": "execute_result"
    }
   ],
   "source": [
    "# def groceries(lst,location=\"Dhanmondi\"):\n",
    "#     dictionary = {'Rice':105,'Potato':20,'Chicken':250,'Beef':510,'Oil':85}\n",
    "#     total = 0\n",
    "#     if location == \"Dhanmondi\":\n",
    "#         total += 30\n",
    "#     else:\n",
    "#         total += 70\n",
    "#     for k,v in dictionary.items():\n",
    "#         if k == \"Oil\":\n",
    "#             print(\"YeaboIII\")     \n",
    "#     return total\n",
    "# groceries([\"Rice\", \"Beef\", \"Rice\"])"
   ]
  }
 ],
 "metadata": {
  "kernelspec": {
   "display_name": "Python 3 (ipykernel)",
   "language": "python",
   "name": "python3"
  },
  "language_info": {
   "codemirror_mode": {
    "name": "ipython",
    "version": 3
   },
   "file_extension": ".py",
   "mimetype": "text/x-python",
   "name": "python",
   "nbconvert_exporter": "python",
   "pygments_lexer": "ipython3",
   "version": "3.9.7"
  }
 },
 "nbformat": 4,
 "nbformat_minor": 5
}
