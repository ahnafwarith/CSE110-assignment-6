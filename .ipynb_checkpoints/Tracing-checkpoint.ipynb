{
 "cells": [
  {
   "cell_type": "code",
   "execution_count": 4,
   "id": "ccb0a4b2",
   "metadata": {},
   "outputs": [
    {
     "name": "stdout",
     "output_type": "stream",
     "text": [
      "12.0\n",
      "29.0\n",
      "45.0\n",
      "21.0\n",
      "42.0\n",
      "65.0\n",
      "26.0\n",
      "52.0\n",
      "80.0\n",
      "110.0\n"
     ]
    }
   ],
   "source": [
    "x = 0\n",
    "y = 0\n",
    "sum = 0\n",
    "p = 0.0\n",
    "while (x < 9):\n",
    "    y = x/2\n",
    "    while (y<x):\n",
    "        p = (x + 5.0)/ 2\n",
    "        sum = sum+2 + x + y*2 + int(p)\n",
    "        print(sum)\n",
    "        y=y+1\n",
    "    x = x+2\n",
    "    if (x>5):\n",
    "        sum = 2\n",
    "    else:\n",
    "        sum += 3"
   ]
  },
  {
   "cell_type": "code",
   "execution_count": 20,
   "id": "4410048b",
   "metadata": {},
   "outputs": [
    {
     "name": "stdout",
     "output_type": "stream",
     "text": [
      "23\n",
      "46\n",
      "52\n",
      "75\n",
      "98\n",
      "121\n",
      "144\n",
      "167\n",
      "190\n",
      "213\n"
     ]
    }
   ],
   "source": [
    "x = 0\n",
    "y = 0\n",
    "sum = 0\n",
    "while (x < 10):\n",
    "    y = x - 3\n",
    "    y = 40\n",
    "    while (y > 22):\n",
    "        if ((sum > 30) and (sum < 40)):\n",
    "            sum = sum + x * 2\n",
    "        elif((sum > 40) and (sum < 50)):\n",
    "            sum = sum + x * 3\n",
    "        else:\n",
    "            sum = sum + 23\n",
    "        print(sum)\n",
    "        y = y - 10\n",
    "    x += 2"
   ]
  },
  {
   "cell_type": "code",
   "execution_count": 21,
   "id": "ee16746d",
   "metadata": {},
   "outputs": [
    {
     "name": "stdout",
     "output_type": "stream",
     "text": [
      "6\n",
      "4\n",
      "2\n",
      "0\n",
      "-2\n",
      "-4\n",
      "3\n",
      "1\n",
      "-1\n",
      "-2\n"
     ]
    }
   ],
   "source": [
    "x = y = 0\n",
    "sum = 0\n",
    "while (x < 10):\n",
    "  y = x - 3\n",
    "  while (y < 3):\n",
    "    sum = x - y * 2 \n",
    "    print(sum)\n",
    "    y = y + 1\n",
    "  if (x > 7): \n",
    "    x += 1\n",
    "  else: \n",
    "    x += 3\n",
    "sum = x - y * 2\n",
    "print(sum)"
   ]
  },
  {
   "cell_type": "code",
   "execution_count": 39,
   "id": "b1521be3",
   "metadata": {},
   "outputs": [
    {
     "name": "stdout",
     "output_type": "stream",
     "text": [
      "4\n",
      "9\n",
      "16\n",
      "25\n",
      "39\n",
      "56\n",
      "78\n",
      "104\n",
      "134\n",
      "147\n"
     ]
    }
   ],
   "source": [
    "x = 0\n",
    "p = 0\n",
    "sum = 0\n",
    "p = 1\n",
    "x = 2\n",
    "q = 0.0\n",
    "sum = 0\n",
    "while (p < 12):\n",
    "    q = x + p - (sum + int(5 / 3)) / 3.0 % 2\n",
    "    sum = sum + x + int(q)\n",
    "    x+=1\n",
    "    print(sum)\n",
    "    if (x > 5):\n",
    "        p += int(4 / 2)\n",
    "    else:\n",
    "        p += 3 % 1\n",
    "sum = sum + p\n",
    "print(sum)"
   ]
  },
  {
   "cell_type": "code",
   "execution_count": 48,
   "id": "9c524651",
   "metadata": {},
   "outputs": [
    {
     "name": "stdout",
     "output_type": "stream",
     "text": [
      "-->dog<--28\n",
      "-->dog<--28-->115\n",
      "-->dog<--28-->115<--27\n",
      "-->dog<--28-->115<--27-->113\n",
      "-->dog<--28-->115<--27-->113-->115\n",
      "-->dog<--28-->115<--27-->113-->115<--37\n",
      "-->dog<--28-->115<--27-->113-->115<--37-->113\n",
      "-->dog<--28-->115<--27-->113-->115<--37-->113<--47\n",
      "-->dog<--28-->115<--27-->113-->115<--37-->113<--47-->213\n",
      "-->dog<--28-->115<--27-->113-->115<--37-->113<--47-->213-->213\n"
     ]
    }
   ],
   "source": [
    "i = 2\n",
    "j = 0\n",
    "k = 17\n",
    "test = \"-->dog\"\n",
    "while i < 7:\n",
    "    k-=1\n",
    "    j = k\n",
    "    while j > 12:\n",
    "        if (j % 2 == 0):\n",
    "            test += \"<--\"\n",
    "            test = test + str(i) + str(j // 2)\n",
    "        else:\n",
    "            test += \"-->\"\n",
    "            test = test + str(i // 2) + str(j) \n",
    "        print(test)\n",
    "        j-=1\n",
    "    i+=1"
   ]
  },
  {
   "cell_type": "code",
   "execution_count": null,
   "id": "6983b47c",
   "metadata": {},
   "outputs": [],
   "source": []
  }
 ],
 "metadata": {
  "kernelspec": {
   "display_name": "Python 3 (ipykernel)",
   "language": "python",
   "name": "python3"
  },
  "language_info": {
   "codemirror_mode": {
    "name": "ipython",
    "version": 3
   },
   "file_extension": ".py",
   "mimetype": "text/x-python",
   "name": "python",
   "nbconvert_exporter": "python",
   "pygments_lexer": "ipython3",
   "version": "3.9.7"
  }
 },
 "nbformat": 4,
 "nbformat_minor": 5
}
